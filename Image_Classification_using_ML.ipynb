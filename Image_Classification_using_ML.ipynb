{
  "nbformat": 4,
  "nbformat_minor": 0,
  "metadata": {
    "colab": {
      "name": "Image Classification using ML.ipynb",
      "provenance": [],
      "mount_file_id": "1iVq0IG6XI_H1rSOi_MbQnBHG3_-D9YnA",
      "authorship_tag": "ABX9TyP2hQfRylY+414O4VMe5o8O",
      "include_colab_link": true
    },
    "kernelspec": {
      "display_name": "Python 3",
      "name": "python3"
    }
  },
  "cells": [
    {
      "cell_type": "markdown",
      "metadata": {
        "id": "view-in-github",
        "colab_type": "text"
      },
      "source": [
        "<a href=\"https://colab.research.google.com/github/amlanmohanty1/Image-Classifier-using-Machine-Learning/blob/main/Image_Classification_using_ML.ipynb\" target=\"_parent\"><img src=\"https://colab.research.google.com/assets/colab-badge.svg\" alt=\"Open In Colab\"/></a>"
      ]
    },
    {
      "cell_type": "code",
      "metadata": {
        "colab": {
          "base_uri": "https://localhost:8080/"
        },
        "id": "iiLTQPBCrHr-",
        "outputId": "286d7548-9d8c-4a29-c687-d31d58970442"
      },
      "source": [
        "!pip install bing-image-downloader"
      ],
      "execution_count": null,
      "outputs": [
        {
          "output_type": "stream",
          "text": [
            "Collecting bing-image-downloader\n",
            "  Downloading https://files.pythonhosted.org/packages/0d/bf/537a61030b84ae4cd5022d5c7b014fd9bc3ce7c02358919153a6658a61d3/bing_image_downloader-1.0.4-py3-none-any.whl\n",
            "Installing collected packages: bing-image-downloader\n",
            "Successfully installed bing-image-downloader-1.0.4\n"
          ],
          "name": "stdout"
        }
      ]
    },
    {
      "cell_type": "code",
      "metadata": {
        "id": "7XlH1FCFsJmm"
      },
      "source": [
        "import bing_image_downloader"
      ],
      "execution_count": null,
      "outputs": []
    },
    {
      "cell_type": "code",
      "metadata": {
        "colab": {
          "base_uri": "https://localhost:8080/"
        },
        "id": "X0VdwMhyxW7H",
        "outputId": "e0b86aba-8676-49d9-e96d-8ed6370740df"
      },
      "source": [
        "cd /content/drive/My Drive"
      ],
      "execution_count": null,
      "outputs": [
        {
          "output_type": "stream",
          "text": [
            "/content/drive/My Drive\n"
          ],
          "name": "stdout"
        }
      ]
    },
    {
      "cell_type": "code",
      "metadata": {
        "colab": {
          "base_uri": "https://localhost:8080/"
        },
        "id": "ooo07oTlsNVM",
        "outputId": "e484b521-9e06-4e91-b97e-229f1d177238"
      },
      "source": [
        "!mkdir images1"
      ],
      "execution_count": null,
      "outputs": [
        {
          "output_type": "stream",
          "text": [
            "mkdir: cannot create directory ‘images1’: File exists\n"
          ],
          "name": "stdout"
        }
      ]
    },
    {
      "cell_type": "code",
      "metadata": {
        "colab": {
          "base_uri": "https://localhost:8080/"
        },
        "id": "TOOeD6LmsSov",
        "outputId": "0ede1ead-c95c-48bc-f983-72570319a08f"
      },
      "source": [
        "from bing_image_downloader import downloader\n",
        "downloader.download('motor bikes', limit=100,  output_dir='images1', adult_filter_off=False,force_replace=False, timeout=60)"
      ],
      "execution_count": null,
      "outputs": [
        {
          "output_type": "stream",
          "text": [
            "\n",
            "\n",
            "[!!]Indexing page: 1\n",
            "\n",
            "[%] Indexed 14 Images on Page 1.\n",
            "\n",
            "===============================================\n",
            "\n",
            "[%] Downloading Image #1 from https://classic-motorbikes.net/wp-content/uploads/2015/10/13391.jpg\n",
            "[%] File Downloaded !\n",
            "\n",
            "[%] Downloading Image #2 from https://classic-motorbikes.net/wp-content/uploads/2015/10/13376.jpg\n",
            "[%] File Downloaded !\n",
            "\n",
            "[%] Downloading Image #3 from http://flashbak.com/wp-content/uploads/2015/10/542365713.jpg\n",
            "[%] File Downloaded !\n",
            "\n",
            "[%] Downloading Image #4 from https://i.pinimg.com/736x/f2/0b/c2/f20bc2c554a7a5443e359247b7cbb268--triumph-motorcycles-celebs.jpg\n",
            "[%] File Downloaded !\n",
            "\n",
            "[%] Downloading Image #5 from https://media.karousell.com/media/photos/products/2018/12/03/braun_buffel_leather_wallet_mens_with_original_box_and_certificate_1543851096_b252ee99.jpg\n",
            "[%] File Downloaded !\n",
            "\n",
            "[%] Downloading Image #6 from http://bestanimations.com/Transport/Bikes/Motorbikes/motorcycle-animated-gif-22.gif\n",
            "[Error]Invalid image, not saving http://bestanimations.com/Transport/Bikes/Motorbikes/motorcycle-animated-gif-22.gif\n",
            "\n",
            "[!] Issue getting: http://bestanimations.com/Transport/Bikes/Motorbikes/motorcycle-animated-gif-22.gif\n",
            "[!] Error:: No active exception to reraise\n",
            "[%] Downloading Image #6 from https://www.bing.com/th/id/OGC.e1c2ed966e21f4f2c83dd400b80f93cb?pid=1.7&amp;rurl=http%3a%2f%2fbestanimations.com%2fTransport%2fBikes%2fMotorbikes%2fmotorcycle-animated-gif-22.gif&amp;ehk=x5fhQLNE23NicuOcKLjQ%2b5JgLqZ%2bzvnhr59tlSPVrvQ%3d\n",
            "[!] Issue getting: https://www.bing.com/th/id/OGC.e1c2ed966e21f4f2c83dd400b80f93cb?pid=1.7&amp;rurl=http%3a%2f%2fbestanimations.com%2fTransport%2fBikes%2fMotorbikes%2fmotorcycle-animated-gif-22.gif&amp;ehk=x5fhQLNE23NicuOcKLjQ%2b5JgLqZ%2bzvnhr59tlSPVrvQ%3d\n",
            "[!] Error:: HTTP Error 404: Not Found\n",
            "[%] Downloading Image #6 from http://d3irysmr2qwrhd.cloudfront.net/wp-content/uploads/2019/11/06035902/mgid_ao_image_mtv.jpeg\n",
            "[Error]Invalid image, not saving http://d3irysmr2qwrhd.cloudfront.net/wp-content/uploads/2019/11/06035902/mgid_ao_image_mtv.jpeg\n",
            "\n",
            "[!] Issue getting: http://d3irysmr2qwrhd.cloudfront.net/wp-content/uploads/2019/11/06035902/mgid_ao_image_mtv.jpeg\n",
            "[!] Error:: No active exception to reraise\n",
            "[%] Downloading Image #6 from https://classic-motorbikes.net/wp-content/uploads/2015/10/8859.jpg\n",
            "[%] File Downloaded !\n",
            "\n",
            "[%] Downloading Image #7 from https://imag.malavida.com/mvimgbig/download-fs/asphalt-8-airborne-13036-10.jpg\n",
            "[%] File Downloaded !\n",
            "\n",
            "[%] Downloading Image #8 from http://classic-motorbikes.net/wp-content/uploads/2015/10/13383.jpg\n",
            "[%] File Downloaded !\n",
            "\n",
            "[%] Downloading Image #9 from https://media.buzz.ie/uploads/2016/04/INYT.jpg\n",
            "[%] File Downloaded !\n",
            "\n",
            "[%] Downloading Image #10 from http://silodrome.com/wp-content/uploads/2015/02/Motorcycle-Backpack-2.jpeg\n",
            "[%] File Downloaded !\n",
            "\n",
            "[%] Downloading Image #11 from https://classic-motorbikes.net/wp-content/uploads/2015/10/13396.jpg\n",
            "[%] File Downloaded !\n",
            "\n",
            "\n",
            "\n",
            "[!!]Indexing page: 2\n",
            "\n",
            "[%] Indexed 14 Images on Page 2.\n",
            "\n",
            "===============================================\n",
            "\n",
            "[%] Downloading Image #12 from http://silodrome.com/wp-content/uploads/2015/02/Motorcycle-Backpack-2.jpeg\n",
            "[%] File Downloaded !\n",
            "\n",
            "[%] Downloading Image #13 from https://classic-motorbikes.net/wp-content/uploads/2015/10/13396.jpg\n",
            "[%] File Downloaded !\n",
            "\n",
            "[%] Downloading Image #14 from http://flashbak.com/wp-content/uploads/2015/10/542365713.jpg\n",
            "[%] File Downloaded !\n",
            "\n",
            "[%] Downloading Image #15 from https://i.pinimg.com/736x/f2/0b/c2/f20bc2c554a7a5443e359247b7cbb268--triumph-motorcycles-celebs.jpg\n",
            "[%] File Downloaded !\n",
            "\n",
            "[%] Downloading Image #16 from https://media.karousell.com/media/photos/products/2018/12/03/braun_buffel_leather_wallet_mens_with_original_box_and_certificate_1543851096_b252ee99.jpg\n",
            "[%] File Downloaded !\n",
            "\n",
            "[%] Downloading Image #17 from http://bestanimations.com/Transport/Bikes/Motorbikes/motorcycle-animated-gif-22.gif\n",
            "[Error]Invalid image, not saving http://bestanimations.com/Transport/Bikes/Motorbikes/motorcycle-animated-gif-22.gif\n",
            "\n",
            "[!] Issue getting: http://bestanimations.com/Transport/Bikes/Motorbikes/motorcycle-animated-gif-22.gif\n",
            "[!] Error:: No active exception to reraise\n",
            "[%] Downloading Image #17 from https://www.bing.com/th/id/OGC.e1c2ed966e21f4f2c83dd400b80f93cb?pid=1.7&amp;rurl=http%3a%2f%2fbestanimations.com%2fTransport%2fBikes%2fMotorbikes%2fmotorcycle-animated-gif-22.gif&amp;ehk=x5fhQLNE23NicuOcKLjQ%2b5JgLqZ%2bzvnhr59tlSPVrvQ%3d\n",
            "[!] Issue getting: https://www.bing.com/th/id/OGC.e1c2ed966e21f4f2c83dd400b80f93cb?pid=1.7&amp;rurl=http%3a%2f%2fbestanimations.com%2fTransport%2fBikes%2fMotorbikes%2fmotorcycle-animated-gif-22.gif&amp;ehk=x5fhQLNE23NicuOcKLjQ%2b5JgLqZ%2bzvnhr59tlSPVrvQ%3d\n",
            "[!] Error:: HTTP Error 404: Not Found\n",
            "[%] Downloading Image #17 from http://classic-motorbikes.net/wp-content/uploads/2015/10/13383.jpg\n",
            "[%] File Downloaded !\n",
            "\n",
            "[%] Downloading Image #18 from http://d3irysmr2qwrhd.cloudfront.net/wp-content/uploads/2019/11/06035902/mgid_ao_image_mtv.jpeg\n",
            "[Error]Invalid image, not saving http://d3irysmr2qwrhd.cloudfront.net/wp-content/uploads/2019/11/06035902/mgid_ao_image_mtv.jpeg\n",
            "\n",
            "[!] Issue getting: http://d3irysmr2qwrhd.cloudfront.net/wp-content/uploads/2019/11/06035902/mgid_ao_image_mtv.jpeg\n",
            "[!] Error:: No active exception to reraise\n",
            "[%] Downloading Image #18 from https://media.buzz.ie/uploads/2016/04/INYT.jpg\n",
            "[%] File Downloaded !\n",
            "\n",
            "[%] Downloading Image #19 from https://classic-motorbikes.net/wp-content/uploads/2015/10/8859.jpg\n",
            "[%] File Downloaded !\n",
            "\n",
            "[%] Downloading Image #20 from https://imag.malavida.com/mvimgbig/download-fs/asphalt-8-airborne-13036-10.jpg\n",
            "[%] File Downloaded !\n",
            "\n",
            "[%] Downloading Image #21 from https://classic-motorbikes.net/wp-content/uploads/2015/10/13391.jpg\n",
            "[%] File Downloaded !\n",
            "\n",
            "[%] Downloading Image #22 from https://classic-motorbikes.net/wp-content/uploads/2015/10/13376.jpg\n",
            "[%] File Downloaded !\n",
            "\n",
            "\n",
            "\n",
            "[!!]Indexing page: 3\n",
            "\n",
            "[%] Indexed 100 Images on Page 3.\n",
            "\n",
            "===============================================\n",
            "\n",
            "[%] Downloading Image #23 from https://ciamotorcycleblog.files.wordpress.com/2012/04/cia-2-4.jpg\n",
            "[%] File Downloaded !\n",
            "\n",
            "[%] Downloading Image #24 from https://i.ytimg.com/vi/JU1JphlVjJo/maxresdefault.jpg\n",
            "[%] File Downloaded !\n",
            "\n",
            "[%] Downloading Image #25 from https://s-media-cache-ak0.pinimg.com/originals/e4/d4/96/e4d496a8cb0f19c7d46267a777d2c04d.jpg\n",
            "[%] File Downloaded !\n",
            "\n",
            "[%] Downloading Image #26 from http://1.bp.blogspot.com/-fAZKfefg4rw/UDzI9AP1RuI/AAAAAAAABFM/5YXGhIZ1dhc/s1600/Motorbike-wallpapers.jpg\n",
            "[%] File Downloaded !\n",
            "\n",
            "[%] Downloading Image #27 from https://www.visordown.com/sites/default/files/styles/v2_large/public/field/image/KTM%20RC%20125%20action_0.jpg?itok=WPC1bs06\n",
            "[%] File Downloaded !\n",
            "\n",
            "[%] Downloading Image #28 from http://4.bp.blogspot.com/-y4aG3i-3z6Q/TyQ7VFyV0SI/AAAAAAAAPYE/-CaK3CNzZrE/s1600/hero-honda+%282%29.jpg\n",
            "[%] File Downloaded !\n",
            "\n",
            "[%] Downloading Image #29 from http://www.motorbikesindia.com/wp-content/uploads/2016/08/ten-beautiful-motorbikes-india.jpg\n",
            "[%] File Downloaded !\n",
            "\n",
            "[%] Downloading Image #30 from https://bikecatcher.co.uk/images/pageContent/ktm-duke-125.jpg\n",
            "[%] File Downloaded !\n",
            "\n",
            "[%] Downloading Image #31 from https://tigitmotorbikes.com/wp-content/uploads/2016/05/bikepics-2326111-full.jpg\n",
            "[%] File Downloaded !\n",
            "\n",
            "[%] Downloading Image #32 from http://2.bp.blogspot.com/-L-3GwZ9oQ0k/TYLMtALRTEI/AAAAAAAAArQ/vO528_SOVCA/s1600/motorbikes.jpg\n",
            "[%] File Downloaded !\n",
            "\n",
            "[%] Downloading Image #33 from https://crossfiremotorcycles.com/wp/wp-content/uploads/2017/11/crossfire-cf50-main.png\n",
            "[%] File Downloaded !\n",
            "\n",
            "[%] Downloading Image #34 from http://grenum.com/wp-content/uploads/2015/02/brammo1.jpg\n",
            "[%] File Downloaded !\n",
            "\n",
            "[%] Downloading Image #35 from http://2.bp.blogspot.com/-ec-QE1Gb2KM/TzZm3nXicoI/AAAAAAAAATs/2CDFUYclztE/s1600/Rieju+Motorbikes_wallpapers+%284%29.jpg\n",
            "[%] File Downloaded !\n",
            "\n",
            "[%] Downloading Image #36 from http://3.bp.blogspot.com/-IsF13dXkzaY/T78KHQ-cj0I/AAAAAAAAAsY/McgtOqhet1g/s1600/suzuki-750-gsxr-motorcycle-wallpaper.jpg\n",
            "[%] File Downloaded !\n",
            "\n",
            "[%] Downloading Image #37 from https://www.team-bhp.com/forum/attachments/motorbikes/867022d1326009021-honda-motorcycles-auto-expo-2012-honda-motorcycle_autoexpo2012-40.jpg\n",
            "[%] File Downloaded !\n",
            "\n",
            "[%] Downloading Image #38 from http://3.bp.blogspot.com/-0lTBG_yXiis/TwM644p5sFI/AAAAAAAAMOg/S9YPlkCiJJ0/s1600/Laptop-Size-Bikes-Wallpapers.jpg\n",
            "[%] File Downloaded !\n",
            "\n",
            "[%] Downloading Image #39 from http://www.scooter.co.uk/images/65/2/image_01.jpg\n",
            "[%] File Downloaded !\n",
            "\n",
            "[%] Downloading Image #40 from http://www.motorbikemovers.com.au/wp-content/uploads/2011/06/Transporting-Motorbikes-Interstate1.jpg\n",
            "[%] File Downloaded !\n",
            "\n",
            "[%] Downloading Image #41 from http://4.bp.blogspot.com/-SR2EgtL4zsQ/TyQ5a6hlZ2I/AAAAAAAAPW8/DmDA2PQFSyc/s1600/motorbikes_013.jpg\n",
            "[%] File Downloaded !\n",
            "\n",
            "[%] Downloading Image #42 from http://3.bp.blogspot.com/-JvMbQneGskk/ThA1XQo3isI/AAAAAAAABVQ/x7eXKLsvxHA/s1600/Modified-Pulsar-motorbikes.jpg\n",
            "[%] File Downloaded !\n",
            "\n",
            "[%] Downloading Image #43 from http://3.bp.blogspot.com/-byK9BNr_pUk/TipIHGgX3nI/AAAAAAAAASs/h1wx_Jb5CRs/s1600/Kawasaki__Z1000SX_2011_18_1280x1024.jpg\n",
            "[%] File Downloaded !\n",
            "\n",
            "[%] Downloading Image #44 from http://static6.businessinsider.com/image/58403523e02ba71e008b6ff7-1190-625/the-7-best-electric-motorcycles-you-can-buy.jpg\n",
            "[%] File Downloaded !\n",
            "\n",
            "[%] Downloading Image #45 from http://www.motorbikesindia.com/wp-content/uploads/2016/08/9-royal-enfield-classic-500.jpg\n",
            "[%] File Downloaded !\n",
            "\n",
            "[%] Downloading Image #46 from https://cdn.trendhunterstatic.com/thumbs/erik-buell-motorbike.jpeg\n",
            "[%] File Downloaded !\n",
            "\n",
            "[%] Downloading Image #47 from https://get.pxhere.com/photo/car-wheel-vehicle-motorcycle-motorbikes-suzuki-chopper-bridgecamera-cruiser-motorcycling-land-vehicle-automobile-make-automotive-design-171066.jpg\n",
            "[%] File Downloaded !\n",
            "\n",
            "[%] Downloading Image #48 from http://www.texmoto.com/wp-content/uploads/2016/12/Vintage-Motorbikes.jpg\n",
            "[%] File Downloaded !\n",
            "\n",
            "[%] Downloading Image #49 from https://cdn.trendhunterstatic.com/thumbs/new-honda-motorbike.jpeg\n",
            "[%] File Downloaded !\n",
            "\n",
            "[%] Downloading Image #50 from https://www.everythingmotoring.com/wp-content/uploads/2017/05/Top-7-Honda-Street-Fun-Motorbikes.jpg\n",
            "[!] Issue getting: https://www.everythingmotoring.com/wp-content/uploads/2017/05/Top-7-Honda-Street-Fun-Motorbikes.jpg\n",
            "[!] Error:: <urlopen error [SSL: CERTIFICATE_VERIFY_FAILED] certificate verify failed (_ssl.c:852)>\n",
            "[%] Downloading Image #50 from http://www.hdwallpapersdepotpro.com/wp-content/uploads/2012/09/Motor-Bike-hd-Wallpaper4.jpg\n",
            "[%] File Downloaded !\n",
            "\n",
            "[%] Downloading Image #51 from http://www.hdwallpapersdepotpro.com/wp-content/uploads/2012/09/Motor-Bike-hd-Wallpaper10.jpg\n",
            "[%] File Downloaded !\n",
            "\n",
            "[%] Downloading Image #52 from http://classic-motorbikes.net/wp-content/uploads/2015/10/dkw-sb250.jpg\n",
            "[%] File Downloaded !\n",
            "\n",
            "[%] Downloading Image #53 from http://4.bp.blogspot.com/-GmU1lRLy-Sk/TyQ-h7KIS6I/AAAAAAAAPb8/qcNYLuh5Usg/s1600/b9ee0_yamaha-motorcycle-006.jpg\n",
            "[%] File Downloaded !\n",
            "\n",
            "[%] Downloading Image #54 from https://automotive.electronicspecifier.com/cms/images/large/MUR352_Murata_UON_eBike_PR3.jpg\n",
            "[%] File Downloaded !\n",
            "\n",
            "[%] Downloading Image #55 from http://3.bp.blogspot.com/_SJZzHWvv1FE/TTW_M8engAI/AAAAAAAAIE8/x1-MTx7KWuU/s1600/Sym_HD_125_2004_01_1920x1200.jpg\n",
            "[%] File Downloaded !\n",
            "\n",
            "[%] Downloading Image #56 from http://pop.h-cdn.co/assets/16/45/moto2.jpg\n",
            "[%] File Downloaded !\n",
            "\n",
            "[%] Downloading Image #57 from http://4.bp.blogspot.com/-QZHG2fWbJJE/Tglyq-PGClI/AAAAAAAADIM/r5upYoC6aeI/s1600/Suzuki%2Bbikes.jpg\n",
            "[%] File Downloaded !\n",
            "\n",
            "[%] Downloading Image #58 from https://www.mopeds.co.uk/scooters/large/65-2-2.jpg\n",
            "[%] File Downloaded !\n",
            "\n",
            "[%] Downloading Image #59 from https://www.tigitmotorbikes.com/wp-content/uploads/2016/05/Yamaha-NVX.jpg\n",
            "[%] File Downloaded !\n",
            "\n",
            "[%] Downloading Image #60 from https://tigitmotorbikes.com/wp-content/uploads/2016/05/Honda-Future-F1-01-1.jpg\n",
            "[%] File Downloaded !\n",
            "\n",
            "[%] Downloading Image #61 from https://classic-motorbikes.net/wp-content/uploads/2012/03/Monkey-bike-4.jpg\n",
            "[%] File Downloaded !\n",
            "\n",
            "[%] Downloading Image #62 from http://4.bp.blogspot.com/_SJZzHWvv1FE/TTW--IrIq2I/AAAAAAAAID0/Hc4_p649XX4/s1600/bimota+motor+red+wallpaper.jpg\n",
            "[%] File Downloaded !\n",
            "\n",
            "[%] Downloading Image #63 from https://tigitmotorbikes.com/wp-content/uploads/2016/05/honda-master-125.jpg\n",
            "[%] File Downloaded !\n",
            "\n",
            "[%] Downloading Image #64 from https://i.ytimg.com/vi/lTIybae_5cs/maxresdefault.jpg\n",
            "[%] File Downloaded !\n",
            "\n",
            "[%] Downloading Image #65 from http://3.bp.blogspot.com/-blbLG5RcXxc/TwM8RCB8HZI/AAAAAAAAMQA/NhajmNX5Eyo/s1600/SS1000_DS.gif\n",
            "[%] File Downloaded !\n",
            "\n",
            "[%] Downloading Image #66 from https://eriderbikes.com/wp-content/uploads/2018/05/ERider_045test-1.jpg\n",
            "[%] File Downloaded !\n",
            "\n",
            "[%] Downloading Image #67 from https://jctyshop89.files.wordpress.com/2011/06/yzf-r125.jpg\n",
            "[%] File Downloaded !\n",
            "\n",
            "[%] Downloading Image #68 from https://p.vitalmx.com/photos/forums/2013/04/26/vp2825365_1_large_682104.jpg\n",
            "[%] File Downloaded !\n",
            "\n",
            "[%] Downloading Image #69 from https://mcn-images.bauersecure.com/PageFiles/666077/Craziest-bikes-01.jpg\n",
            "[%] File Downloaded !\n",
            "\n",
            "[%] Downloading Image #70 from http://www.diamond.co.uk/Images/cms_images/Steph1.jpg\n",
            "[!] Issue getting: http://www.diamond.co.uk/Images/cms_images/Steph1.jpg\n",
            "[!] Error:: HTTP Error 404: Not Found\n",
            "[%] Downloading Image #70 from http://www.directbikes.co.uk/scooters/large/65-2-1.jpg\n",
            "[%] File Downloaded !\n",
            "\n",
            "[%] Downloading Image #71 from http://classic-motorbikes.net/wp-content/uploads/2015/10/8455.jpg\n",
            "[%] File Downloaded !\n",
            "\n",
            "[%] Downloading Image #72 from http://www.motorbikesindia.com/wp-content/uploads/2016/08/6-bajaj-pulsar-200ns-1024x768.jpg\n",
            "[%] File Downloaded !\n",
            "\n",
            "[%] Downloading Image #73 from http://www.team-bhp.com/forum/attachments/motorbikes/1260123d1404996908-2014-motorcycle-purchase-dilemma-200-400cc-capture1.jpg\n",
            "[%] File Downloaded !\n",
            "\n",
            "[%] Downloading Image #74 from https://www.influx.co.uk/wordpress/wp-content/uploads/2011/03/Italy_Monster_S_MF-1-of-1.jpg\n",
            "[%] File Downloaded !\n",
            "\n",
            "[%] Downloading Image #75 from https://www.rdhmarinesubic.com/2017/ducati_750a.jpg\n",
            "[%] File Downloaded !\n",
            "\n",
            "[%] Downloading Image #76 from https://mcn-images.bauersecure.com/upload/280788/images/pw50.jpg\n",
            "[%] File Downloaded !\n",
            "\n",
            "[%] Downloading Image #77 from https://a57.foxnews.com/a57.foxnews.com/static.foxnews.com/foxnews.com/content/uploads/2019/02/640/320/1862/1048/e853af89-r1.jpg?ve=1&amp;tl=1?ve=1&amp;tl=1\n",
            "[%] File Downloaded !\n",
            "\n",
            "[%] Downloading Image #78 from https://www.themotorbikefinancer.co.uk/wp-content/uploads/Yamaha-YZF-R6-Black-738097-e1564503527390.jpeg\n",
            "[%] File Downloaded !\n",
            "\n",
            "[%] Downloading Image #79 from https://www.bikesure.co.uk/bikesureblog/wp-content/uploads/2020/03/yamaha-mt-125.jpg\n",
            "[%] File Downloaded !\n",
            "\n",
            "[%] Downloading Image #80 from http://coolarama.co.uk/motorbikes_010.jpg\n",
            "[%] File Downloaded !\n",
            "\n",
            "[%] Downloading Image #81 from http://classic-motorbikes.net/wp-content/uploads/2012/03/Monkey-bike-2.jpg\n",
            "[%] File Downloaded !\n",
            "\n",
            "[%] Downloading Image #82 from https://cdn.trendhunterstatic.com/thumbs/indian-motorbike.jpeg\n",
            "[%] File Downloaded !\n",
            "\n",
            "[%] Downloading Image #83 from http://www.motorbikesandscooterschester.co.uk/wp-content/uploads/2018/03/Falcon-1.png\n",
            "[%] File Downloaded !\n",
            "\n",
            "[%] Downloading Image #84 from https://www.bikerandbike.co.uk/wp-content/uploads/2017/08/Lightning-LS-218.jpg\n",
            "[%] File Downloaded !\n",
            "\n",
            "[%] Downloading Image #85 from http://4.bp.blogspot.com/-vIl7ApOymIQ/T78J47z195I/AAAAAAAAAro/mJXr0tSU_Lc/s1600/Hot-Bikes-Pictures+&amp;+Wallpapers.jpg\n",
            "[%] File Downloaded !\n",
            "\n",
            "[%] Downloading Image #86 from http://4.bp.blogspot.com/_SJZzHWvv1FE/TTSB8wp1MwI/AAAAAAAAH5o/onzcoUwj8ms/s1600/Rieju-RS3.jpg\n",
            "[%] File Downloaded !\n",
            "\n",
            "[%] Downloading Image #87 from http://2.bp.blogspot.com/-Wb2GWrdNpY0/TnSF014BmmI/AAAAAAAAPcQ/pNr5CQMAsI0/s1600/125cc+motorbikes+1.gif\n",
            "[%] File Downloaded !\n",
            "\n",
            "[%] Downloading Image #88 from http://static.flickr.com/100/312416077_c1d4705d85_o.jpg\n",
            "[%] File Downloaded !\n",
            "\n",
            "[%] Downloading Image #89 from http://4.bp.blogspot.com/-XaHGUeaQg7g/T78KLl6HciI/AAAAAAAAAsg/GX3rb8ha_Rg/s1600/suzuki-gsxr-motorcycle-wallpaper.jpg\n",
            "[%] File Downloaded !\n",
            "\n",
            "[%] Downloading Image #90 from https://wordlesstech.com/wp-content/uploads/2012/07/All-BMW-Motorbikes-get-standard-ABS-3.jpg\n",
            "[%] File Downloaded !\n",
            "\n",
            "[%] Downloading Image #91 from http://3.bp.blogspot.com/-nwv9wz0k2xQ/VlJx1yPBBxI/AAAAAAAAa54/Vc0_VHMfSN0/s1600/cool-ninja-motorcycles-id-72211-buzzerg.jpg\n",
            "[%] File Downloaded !\n",
            "\n",
            "[%] Downloading Image #92 from https://image.redbull.com/rbcom/052/2018-07-20/b181e056-45ca-497b-bca5-cca30a80525e/0012/0/0/3/1278/1920/1500/1/electric-motorbikes-main.jpg\n",
            "[%] File Downloaded !\n",
            "\n",
            "[%] Downloading Image #93 from http://www.motorbikesindia.com/wp-content/uploads/2018/01/IM-6.jpg\n",
            "[%] File Downloaded !\n",
            "\n",
            "[%] Downloading Image #94 from https://i.ytimg.com/vi/m0gLRRGgKTQ/maxresdefault.jpg\n",
            "[%] File Downloaded !\n",
            "\n",
            "[%] Downloading Image #95 from https://cdn.trendhunterstatic.com/thumbs/sports-motorbikes.jpeg\n",
            "[%] File Downloaded !\n",
            "\n",
            "[%] Downloading Image #96 from http://wallpoper.com/images/00/42/52/27/motorbikes-motorcycles_00425227.jpg\n",
            "[%] File Downloaded !\n",
            "\n",
            "[%] Downloading Image #97 from http://4.bp.blogspot.com/-pJrYGasoH1w/UFEN-_n4tCI/AAAAAAAACqA/3Vuer3Nv91g/s1600/Ryan's+motorbikes.jpg\n",
            "[%] File Downloaded !\n",
            "\n",
            "[%] Downloading Image #98 from http://img.xcitefun.net/users/2009/04/42597,xcitefun-1zp6xzl.jpg\n",
            "[%] File Downloaded !\n",
            "\n",
            "[%] Downloading Image #99 from https://4.bp.blogspot.com/-s2ZcgjLzBWo/ThDH8kUDp1I/AAAAAAAABrI/0WLp0a9KXhQ/s1600/Pictures_of_Cool_motor_Bikes_wallpapers-8874564887954612.jpg\n",
            "[%] File Downloaded !\n",
            "\n",
            "[%] Downloading Image #100 from http://www.motorbikesindia.com/wp-content/uploads/2016/08/2-ktm-390-duke-1024x768.jpg\n",
            "[%] File Downloaded !\n",
            "\n",
            "\n",
            "\n",
            "[%] Done. Downloaded 100 images.\n",
            "\n",
            "===============================================\n",
            "\n"
          ],
          "name": "stdout"
        }
      ]
    },
    {
      "cell_type": "code",
      "metadata": {
        "colab": {
          "base_uri": "https://localhost:8080/"
        },
        "id": "uZN9ZTSvsg1u",
        "outputId": "71813858-4bb7-414e-d194-eb8a8f6488cb"
      },
      "source": [
        "from bing_image_downloader import downloader\n",
        "downloader.download('cars', limit=100,  output_dir='images1', adult_filter_off=False,force_replace=False, timeout=60)"
      ],
      "execution_count": null,
      "outputs": [
        {
          "output_type": "stream",
          "text": [
            "\n",
            "\n",
            "[!!]Indexing page: 1\n",
            "\n",
            "[%] Indexed 100 Images on Page 1.\n",
            "\n",
            "===============================================\n",
            "\n",
            "[%] Downloading Image #1 from https://www.motortrend.com/uploads/sites/5/2019/12/MotorTrend-Most-Important-Cars-of-the-Decade.jpg\n",
            "[!] Issue getting: https://www.motortrend.com/uploads/sites/5/2019/12/MotorTrend-Most-Important-Cars-of-the-Decade.jpg\n",
            "[!] Error:: The read operation timed out\n",
            "[%] Downloading Image #1 from https://pictures.topspeed.com/IMG/jpg/201807/5-modern-sports-cars.jpg\n",
            "[%] File Downloaded !\n",
            "\n",
            "[%] Downloading Image #2 from https://www.autocar.co.uk/sites/autocar.co.uk/files/styles/gallery_slide/public/images/car-reviews/first-drives/legacy/1-porsche-taycan-turbo-s-2020-fd-hero-front_0.jpg?itok=K3DnPo_R\n",
            "[%] File Downloaded !\n",
            "\n",
            "[%] Downloading Image #3 from https://www.topgear.com/sites/default/files/styles/16x9_1280w/public/news-listicle/image/2015/11/row_0804.jpg?itok=WBynM_Uo\n",
            "[%] File Downloaded !\n",
            "\n",
            "[%] Downloading Image #4 from http://s1.cdn.autoevolution.com/images/news/gallery/consumer-reports-best-worst-cars-2016_8.jpeg\n",
            "[%] File Downloaded !\n",
            "\n",
            "[%] Downloading Image #5 from https://static3.hotcarsimages.com/wordpress/wp-content/uploads/2019/07/feature-luxury-sport-car.jpg\n",
            "[%] File Downloaded !\n",
            "\n",
            "[%] Downloading Image #6 from https://static2.thethingsimages.com/wordpress/wp-content/uploads/2020/05/15-Sickest-Concept-Cars-In-2020-1.jpg\n",
            "[%] File Downloaded !\n",
            "\n",
            "[%] Downloading Image #7 from http://98ron.superunleaded.com/wp-content/uploads/2015/04/Cool-Cars-of-Monaco-0001.jpg\n",
            "[%] File Downloaded !\n",
            "\n",
            "[%] Downloading Image #8 from https://improb.com/wp-content/uploads/2019/07/Best-Street-Legal-Cars-that-Can-Do-Over-200-MPH.jpg\n",
            "[Error]Invalid image, not saving https://improb.com/wp-content/uploads/2019/07/Best-Street-Legal-Cars-that-Can-Do-Over-200-MPH.jpg\n",
            "\n",
            "[!] Issue getting: https://improb.com/wp-content/uploads/2019/07/Best-Street-Legal-Cars-that-Can-Do-Over-200-MPH.jpg\n",
            "[!] Error:: No active exception to reraise\n",
            "[%] Downloading Image #8 from https://www.carscoops.com/wp-content/uploads/2018/05/McLaren-720S-570S-Spider.jpg\n",
            "[%] File Downloaded !\n",
            "\n",
            "[%] Downloading Image #9 from https://static2.thethingsimages.com/wordpress/wp-content/uploads/2020/01/20-New-Foreign-Cars-That-Will-Be-Classics-In-20-Years-1.jpg\n",
            "[%] File Downloaded !\n",
            "\n",
            "[%] Downloading Image #10 from https://i.ytimg.com/vi/8tbrsduzvB8/maxresdefault.jpg\n",
            "[%] File Downloaded !\n",
            "\n",
            "[%] Downloading Image #11 from https://static1.thegamerimages.com/wordpress/wp-content/uploads/2019/08/feature-image-gta-6-cars.jpg\n",
            "[%] File Downloaded !\n",
            "\n",
            "[%] Downloading Image #12 from https://cnet2.cbsistatic.com/img/4SWMXaIO3A3QCMjmBtb8TP331vM=/1600x900/2016/11/11/9736a637-c84c-4dca-bf1e-40f5387ac849/2016-focus-rs-25.jpg\n",
            "[%] File Downloaded !\n",
            "\n",
            "[%] Downloading Image #13 from https://www.trbimg.com/img-58f4e257/turbine/os-bz-bb-self-driving-cars-sports-cars-20170417\n",
            "[%] File Downloaded !\n",
            "\n",
            "[%] Downloading Image #14 from https://s1.cdn.autoevolution.com/images/news/gallery/cheapest-rwd-cars-to-buy-in-2016_6.jpg\n",
            "[%] File Downloaded !\n",
            "\n",
            "[%] Downloading Image #15 from https://vignette.wikia.nocookie.net/transcripts/images/4/42/Disney_and_Pixar's_Cars_-_iTunes_Movie_Poster.jpg/revision/latest?cb=20170401033018\n",
            "[%] File Downloaded !\n",
            "\n",
            "[%] Downloading Image #16 from https://cdn.motor1.com/images/mgl/EOjJB/s3/are-green-cars-unlucky.jpg\n",
            "[%] File Downloaded !\n",
            "\n",
            "[%] Downloading Image #17 from http://bestreviewof.com/wp-content/uploads/2015/04/fastest-cars-in-the-world-2015-3.jpg\n",
            "[%] File Downloaded !\n",
            "\n",
            "[%] Downloading Image #18 from https://s1.cdn.autoevolution.com/images/news/gallery/top-10-cheapest-cars-on-sale-in-the-united-states-by-segment_23.jpeg\n",
            "[%] File Downloaded !\n",
            "\n",
            "[%] Downloading Image #19 from https://www.theclever.com/wp-content/uploads/2017/04/gold-digger-cars-e1492101613607.jpg\n",
            "[%] File Downloaded !\n",
            "\n",
            "[%] Downloading Image #20 from https://pictures.topspeed.com/IMG/crop/201808/10-sports-cars-with--2_1600x0w.jpg\n",
            "[%] File Downloaded !\n",
            "\n",
            "[%] Downloading Image #21 from https://s1.cdn.autoevolution.com/images/news/gallery/what-luxury-cars-do-women-want_8.jpg\n",
            "[%] File Downloaded !\n",
            "\n",
            "[%] Downloading Image #22 from https://www.carscoops.com/wp-content/uploads/2019/12/togg-suv-and-sedan-ev-prototypes-14.jpg\n",
            "[%] File Downloaded !\n",
            "\n",
            "[%] Downloading Image #23 from https://pictures.topspeed.com/IMG/crop/201903/best-commuter-cars_1600x0w.jpg\n",
            "[%] File Downloaded !\n",
            "\n",
            "[%] Downloading Image #24 from http://www.peacockplume.fr/sites/default/files/Cars_0.jpg\n",
            "[%] File Downloaded !\n",
            "\n",
            "[%] Downloading Image #25 from https://media.gq.com/photos/58d54dae54d2617a9a731067/16:9/w_1280/Cars-Portfolio-1317-GQ-FECA04-01.jpg\n",
            "[%] File Downloaded !\n",
            "\n",
            "[%] Downloading Image #26 from https://static0.hotcarsimages.com/wordpress/wp-content/uploads/2019/11/American-Muscle-cars.jpg\n",
            "[%] File Downloaded !\n",
            "\n",
            "[%] Downloading Image #27 from https://moneyinc.com/wp-content/uploads/2016/08/McLaren-Cars.jpg\n",
            "[%] File Downloaded !\n",
            "\n",
            "[%] Downloading Image #28 from https://s1.cdn.autoevolution.com/images/news/gallery/how-many-types-of-hybrid-cars-are-there_8.jpeg\n",
            "[%] File Downloaded !\n",
            "\n",
            "[%] Downloading Image #29 from http://1.bp.blogspot.com/-uDsgAdBJz8Y/T4u04OGpLnI/AAAAAAAAQQ0/193UEYdtyZY/s1600/Amazing-Cars-HD-wallpaper--%2B100%2B9.jpg\n",
            "[%] File Downloaded !\n",
            "\n",
            "[%] Downloading Image #30 from https://cdn.motor1.com/images/mgl/434kz/s3/most-beautiful-cars-lead.jpg\n",
            "[Error]Invalid image, not saving https://cdn.motor1.com/images/mgl/434kz/s3/most-beautiful-cars-lead.jpg\n",
            "\n",
            "[!] Issue getting: https://cdn.motor1.com/images/mgl/434kz/s3/most-beautiful-cars-lead.jpg\n",
            "[!] Error:: No active exception to reraise\n",
            "[%] Downloading Image #30 from https://cars.usnews.com/images/article/201909/128262/15372_2020_Optima_640x420.jpg\n",
            "[!] Issue getting: https://cars.usnews.com/images/article/201909/128262/15372_2020_Optima_640x420.jpg\n",
            "[!] Error:: The read operation timed out\n",
            "[%] Downloading Image #30 from https://pictures.topspeed.com/IMG/crop/201807/the-best-cars-under-_1600x0w.jpg\n",
            "[%] File Downloaded !\n",
            "\n",
            "[%] Downloading Image #31 from https://pictures.topspeed.com/IMG/jpg/201808/8-sports-cars-from-t-13.jpg\n",
            "[%] File Downloaded !\n",
            "\n",
            "[%] Downloading Image #32 from https://s1.cdn.autoevolution.com/images/news/gallery/top-5-cheapest-v8-cars-on-sale-in-europe-in-2016_32.jpeg\n",
            "[%] File Downloaded !\n",
            "\n",
            "[%] Downloading Image #33 from https://cdn.motor1.com/images/mgl/4vB7o/s3/these-two-sleek-sports-cars-have-volkswagen-origins.jpg\n",
            "[%] File Downloaded !\n",
            "\n",
            "[%] Downloading Image #34 from https://static1.thethingsimages.com/wordpress/wp-content/uploads/2020/04/18-Custom-Sports-Cars-That-Beat-The-Original-Design-1.png\n",
            "[%] File Downloaded !\n",
            "\n",
            "[%] Downloading Image #35 from https://www.pixelstalk.net/wp-content/uploads/2016/10/HD-free-disney-cars-pictures.jpg\n",
            "[%] File Downloaded !\n",
            "\n",
            "[%] Downloading Image #36 from https://hips.hearstapps.com/hmg-prod.s3.amazonaws.com/images/10-cheap-cars-1570646999.jpg?crop=1.00xw:0.502xh;0,0&amp;resize=1200:*\n",
            "[%] File Downloaded !\n",
            "\n",
            "[%] Downloading Image #37 from https://luxurylaunches.com/wp-content/uploads/2014/12/2014-best-supercars.jpg\n",
            "[%] File Downloaded !\n",
            "\n",
            "[%] Downloading Image #38 from http://www.trbimg.com/img-54376041/turbine/os-new-disney-pixar-cars-game-announced-for-smartphones-and-tablets-20141009\n",
            "[%] File Downloaded !\n",
            "\n",
            "[%] Downloading Image #39 from https://images.carscoops.com/2018/09/fd01751f-weirdest-belongings-repossessed-cars-4.jpg\n",
            "[%] File Downloaded !\n",
            "\n",
            "[%] Downloading Image #40 from https://cdn.motor1.com/images/mgl/r0mwP/s3/you-only-live-twice.jpg\n",
            "[Error]Invalid image, not saving https://cdn.motor1.com/images/mgl/r0mwP/s3/you-only-live-twice.jpg\n",
            "\n",
            "[!] Issue getting: https://cdn.motor1.com/images/mgl/r0mwP/s3/you-only-live-twice.jpg\n",
            "[!] Error:: No active exception to reraise\n",
            "[%] Downloading Image #40 from https://cdn.wccftech.com/wp-content/uploads/2015/04/Project-CARS-32.jpg\n",
            "[%] File Downloaded !\n",
            "\n",
            "[%] Downloading Image #41 from https://upload.wikimedia.org/wikipedia/en/thumb/3/34/Cars_2006.jpg/220px-Cars_2006.jpg\n",
            "[Error]Invalid image, not saving https://upload.wikimedia.org/wikipedia/en/thumb/3/34/Cars_2006.jpg/220px-Cars_2006.jpg\n",
            "\n",
            "[!] Issue getting: https://upload.wikimedia.org/wikipedia/en/thumb/3/34/Cars_2006.jpg/220px-Cars_2006.jpg\n",
            "[!] Error:: No active exception to reraise\n",
            "[%] Downloading Image #41 from https://parkers-images.bauersecure.com/gallery-image/pagefiles/276898/1752x1168/20fordpumasmallcars.jpg\n",
            "[%] File Downloaded !\n",
            "\n",
            "[%] Downloading Image #42 from https://images.carscoops.com/2018/10/4d1ad8b6-ford-focus-rs-sema.jpg\n",
            "[%] File Downloaded !\n",
            "\n",
            "[%] Downloading Image #43 from https://carsguide-res.cloudinary.com/image/upload/f_auto%2Cfl_lossy%2Cq_auto%2Ct_default/v1/editorial/2020_Ford_Escape%284%29_0.jpg\n",
            "[%] File Downloaded !\n",
            "\n",
            "[%] Downloading Image #44 from http://allhdwallpapers.com/wp-content/uploads/2015/04/cars-4.jpg\n",
            "[%] File Downloaded !\n",
            "\n",
            "[%] Downloading Image #45 from https://www.thetruthaboutcars.com/wp-content/uploads/2013/01/IMG_1311.jpg\n",
            "[%] File Downloaded !\n",
            "\n",
            "[%] Downloading Image #46 from http://cdn.lolwot.com/wp-content/uploads/2015/05/15-most-dangerous-cars-of-all-time-7.jpg\n",
            "[%] File Downloaded !\n",
            "\n",
            "[%] Downloading Image #47 from https://s1.cdn.autoevolution.com/images/news/gallery/top-5-cheapest-v8-cars-on-sale-in-europe-in-2016_6.jpeg\n",
            "[%] File Downloaded !\n",
            "\n",
            "[%] Downloading Image #48 from https://whyisarizonaso.files.wordpress.com/2014/05/img01512-20110910-1625.jpg\n",
            "[%] File Downloaded !\n",
            "\n",
            "[%] Downloading Image #49 from https://weneedfun.com/wp-content/uploads/2016/07/Muscle-Cars-7.jpg\n",
            "[%] File Downloaded !\n",
            "\n",
            "[%] Downloading Image #50 from https://www.autocar.co.uk/sites/autocar.co.uk/files/styles/gallery_slide/public/images/car-reviews/first-drives/legacy/15-jaguar-f-type-coupe-2020-fd-otr-front_0.jpg?itok=0Ryv25wp\n",
            "[%] File Downloaded !\n",
            "\n",
            "[%] Downloading Image #51 from https://s1.cdn.autoevolution.com/images/news/gallery/top-10-cheapest-cars-on-sale-in-the-united-states-by-segment_33.jpeg\n",
            "[%] File Downloaded !\n",
            "\n",
            "[%] Downloading Image #52 from https://weneedfun.com/wp-content/uploads/2015/09/Old-Cars-23.jpg\n",
            "[%] File Downloaded !\n",
            "\n",
            "[%] Downloading Image #53 from https://www.best-selling-cars.com/wp-content/uploads/2020/05/Jaguar-I-pace.jpg\n",
            "[%] File Downloaded !\n",
            "\n",
            "[%] Downloading Image #54 from https://cdn.drivingline.com/media/2314128/forza-expensive-cars-mclaren-senna.jpg\n",
            "[%] File Downloaded !\n",
            "\n",
            "[%] Downloading Image #55 from https://s1.cdn.autoevolution.com/images/news/gallery/here-are-the-most-expensive-cars-you-can-buy-in-europe-in-2016_32.jpg\n",
            "[%] File Downloaded !\n",
            "\n",
            "[%] Downloading Image #56 from https://www.carscoops.com/wp-content/uploads/2018/05/porsche-hypercars.jpg\n",
            "[%] File Downloaded !\n",
            "\n",
            "[%] Downloading Image #57 from https://cdn.motor1.com/images/mgl/oLJkp/s3/safest-small-cars-lead.jpg\n",
            "[%] File Downloaded !\n",
            "\n",
            "[%] Downloading Image #58 from https://upload.wikimedia.org/wikipedia/commons/6/61/Cars_movie's_car.jpg\n",
            "[%] File Downloaded !\n",
            "\n",
            "[%] Downloading Image #59 from http://s3.caradvice.com.au/wp-content/uploads/2014/12/BMW-X4-M40i.jpg\n",
            "[%] File Downloaded !\n",
            "\n",
            "[%] Downloading Image #60 from http://trendsinusa.com/wp-content/uploads/2018/01/cool_cars.jpg\n",
            "[%] File Downloaded !\n",
            "\n",
            "[%] Downloading Image #61 from https://cdn.wccftech.com/wp-content/uploads/2014/05/Project-CARS-4.png\n",
            "[%] File Downloaded !\n",
            "\n",
            "[%] Downloading Image #62 from https://i.ytimg.com/vi/aiuMn4SXaCw/maxresdefault.jpg\n",
            "[%] File Downloaded !\n",
            "\n",
            "[%] Downloading Image #63 from https://pepclassiccars.com/wp-content/gallery/1950-ford-convertible/img_0560.jpg\n",
            "[%] File Downloaded !\n",
            "\n",
            "[%] Downloading Image #64 from https://images.carscoops.com/2019/01/1456b06f-cadillac-crossover-ev.jpg\n",
            "[%] File Downloaded !\n",
            "\n",
            "[%] Downloading Image #65 from https://s1.cdn.autoevolution.com/images/news/gallery/top-10-cheapest-cars-on-sale-in-the-united-states-by-segment_34.jpeg\n",
            "[%] File Downloaded !\n",
            "\n",
            "[%] Downloading Image #66 from http://allhdwallpapers.com/wp-content/uploads/2015/04/cars-8.jpg\n",
            "[%] File Downloaded !\n",
            "\n",
            "[%] Downloading Image #67 from https://pictures.topspeed.com/IMG/crop/201901/10-exciting-cars-tha-2_1600x0w.jpg\n",
            "[%] File Downloaded !\n",
            "\n",
            "[%] Downloading Image #68 from https://www.maxim.com/.image/t_share/MTQ0NzM5OTc1ODk0NjcyNTUy/dodge-challenger-sxt.jpg\n",
            "[%] File Downloaded !\n",
            "\n",
            "[%] Downloading Image #69 from http://www.trbimg.com/img-59402573/turbine/ct-best-affordable-sports-cars-20170605\n",
            "[%] File Downloaded !\n",
            "\n",
            "[%] Downloading Image #70 from https://static2.hotcarsimages.com/wordpress/wp-content/uploads/2020/03/feature-image-modified-JDM.jpg\n",
            "[%] File Downloaded !\n",
            "\n",
            "[%] Downloading Image #71 from http://bangshift.com/assets/galleries/sema-2013-tuesday-cool-cars-and-trucks/img_8348.jpg\n",
            "[%] File Downloaded !\n",
            "\n",
            "[%] Downloading Image #72 from http://www.telegraph.co.uk/cars/images/porsche/cayman/Porsche%20Cayman%20main%20image-xlarge.jpg\n",
            "[%] File Downloaded !\n",
            "\n",
            "[%] Downloading Image #73 from https://hips.hearstapps.com/roa.h-cdn.co/assets/17/14/1280x640/landscape-1491414681-corvette-c5-1997-wallpapers-3-1600x1200.jpg?resize=1200:*\n",
            "[%] File Downloaded !\n",
            "\n",
            "[%] Downloading Image #74 from https://s1.cdn.autoevolution.com/images/news/five-cars-that-would-be-ruined-by-tuning-104521-7.jpg\n",
            "[%] File Downloaded !\n",
            "\n",
            "[%] Downloading Image #75 from https://www.hdnicewallpapers.com/Walls/Big/Bugatti/MEO_Costantini_Bugatti_Veyron_HD_Nice_Cars_Photos.jpg\n",
            "[%] File Downloaded !\n",
            "\n",
            "[%] Downloading Image #76 from https://www.theclever.com/wp-content/uploads/2017/07/muscle-cars.jpg\n",
            "[%] File Downloaded !\n",
            "\n",
            "[%] Downloading Image #77 from https://d.ibtimes.co.uk/en/full/1572716/hh-cars.jpg\n",
            "[%] File Downloaded !\n",
            "\n",
            "[%] Downloading Image #78 from https://pictures.topspeed.com/IMG/crop/202003/top-10-classic-cars--11_1600x0w.jpg\n",
            "[%] File Downloaded !\n",
            "\n",
            "[%] Downloading Image #79 from http://www.wired.com/wp-content/uploads/2015/03/tiny-classic-cars-ft.jpg\n",
            "[%] File Downloaded !\n",
            "\n",
            "[%] Downloading Image #80 from http://oldconceptcars.com/wp-content/uploads/alfa_romeo_scighera_12.jpg\n",
            "[%] File Downloaded !\n",
            "\n",
            "[%] Downloading Image #81 from https://pictures.topspeed.com/IMG/crop/201904/the-best-cars-for-le_1600x0w.jpg\n",
            "[%] File Downloaded !\n",
            "\n",
            "[%] Downloading Image #82 from http://trendsinusa.com/wp-content/uploads/2018/01/4512566-pictures-of-cool-cars.jpg\n",
            "[%] File Downloaded !\n",
            "\n",
            "[%] Downloading Image #83 from https://www.automobilemag.com/uploads/sites/11/2018/07/2019-New-and-Future-Cars-11.jpg\n",
            "[!] Issue getting: https://www.automobilemag.com/uploads/sites/11/2018/07/2019-New-and-Future-Cars-11.jpg\n",
            "[!] Error:: The read operation timed out\n",
            "[%] Downloading Image #83 from https://im.rediff.com/money/2012/dec/19cars1.jpg\n",
            "[%] File Downloaded !\n",
            "\n",
            "[%] Downloading Image #84 from https://assets.vg247.com/current/2016/03/project_cars_us_car_packs_1.jpg\n",
            "[%] File Downloaded !\n",
            "\n",
            "[%] Downloading Image #85 from http://assets1.ignimgs.com/2006/05/03/e3-2006-disneys-the-cars-screens-20060503021233341-1486067.jpg\n",
            "[%] File Downloaded !\n",
            "\n",
            "[%] Downloading Image #86 from http://bvg.design/wp-content/uploads/2018/03/1600-slides3.jpg\n",
            "[%] File Downloaded !\n",
            "\n",
            "[%] Downloading Image #87 from https://media.autoexpress.co.uk/image/private/s--JqYFRBWl--/v1587546757/autoexpress/2020/04/Most%20reliable%20family%20cars%202020-3.jpg\n",
            "[%] File Downloaded !\n",
            "\n",
            "[%] Downloading Image #88 from https://www.budgetdirect.com.au/blog/wp-content/uploads/2019/10/Best-Small-Cars-Australia-649x349.jpg\n",
            "[%] File Downloaded !\n",
            "\n",
            "[%] Downloading Image #89 from https://www.mitsuoka-motor.co.uk/wp-content/uploads/2018/10/IMG_7885.jpg\n",
            "[%] File Downloaded !\n",
            "\n",
            "[%] Downloading Image #90 from https://i.ytimg.com/vi/P9yKpquPpR4/maxresdefault.jpg\n",
            "[%] File Downloaded !\n",
            "\n",
            "[%] Downloading Image #91 from https://www.aeclassiccars.com/wp-content/uploads/2016/06/1-12.jpg\n",
            "[%] File Downloaded !\n",
            "\n",
            "[%] Downloading Image #92 from https://s1.cdn.autoevolution.com/images/news/gallery/famous-modern-cars-look-silly-with-old-school-faces_7.jpg\n",
            "[%] File Downloaded !\n",
            "\n",
            "[%] Downloading Image #93 from https://static1.hotcarsimages.com/wordpress/wp-content/uploads/2019/06/Florida-Ford-Autonomous-via-Ford.jpg\n",
            "[%] File Downloaded !\n",
            "\n",
            "\n",
            "\n",
            "[!!]Indexing page: 2\n",
            "\n",
            "[%] Indexed 13 Images on Page 2.\n",
            "\n",
            "===============================================\n",
            "\n",
            "[%] Downloading Image #94 from https://wallpapersite.com/images/wallpapers/lamborghini-terzo-millennio-1440x2560-concept-cars-future-cars-sports-11042.jpg\n",
            "[!] Issue getting: https://wallpapersite.com/images/wallpapers/lamborghini-terzo-millennio-1440x2560-concept-cars-future-cars-sports-11042.jpg\n",
            "[!] Error:: HTTP Error 404: Not Found\n",
            "[%] Downloading Image #94 from https://flashbak.com/wp-content/uploads/2016/12/Christmas-tree-mom-18.jpg\n",
            "[%] File Downloaded !\n",
            "\n",
            "[%] Downloading Image #95 from https://cdn.themindcircle.com/wp-content/uploads/2019/06/funny-desktop-wallpapers-8.jpg\n",
            "[%] File Downloaded !\n",
            "\n",
            "[%] Downloading Image #96 from https://wallpapersite.com/images/wallpapers/mercedes-amg-gt3-480x854-2019-4k-18328.jpg\n",
            "[!] Issue getting: https://wallpapersite.com/images/wallpapers/mercedes-amg-gt3-480x854-2019-4k-18328.jpg\n",
            "[!] Error:: HTTP Error 404: Not Found\n",
            "[%] Downloading Image #96 from https://www.barnorama.com/wp-content/uploads/2019/02/wedding_memes_09.jpg\n",
            "[%] File Downloaded !\n",
            "\n",
            "[%] Downloading Image #97 from https://wallpapersite.com/images/wallpapers/dodge-challenger-srt-hellcat-widebody-1280x800-2018-hd-8085.jpg\n",
            "[!] Issue getting: https://wallpapersite.com/images/wallpapers/dodge-challenger-srt-hellcat-widebody-1280x800-2018-hd-8085.jpg\n",
            "[!] Error:: HTTP Error 404: Not Found\n",
            "[%] Downloading Image #97 from https://weneedfun.com/wp-content/uploads/2016/08/Cake-Boss-Wedding-Cakes-12.jpg\n",
            "[%] File Downloaded !\n",
            "\n",
            "[%] Downloading Image #98 from https://www.pixelstalk.net/wp-content/uploads/images1/Free-Barn-HD-Images-1920x1200-620x388.jpg\n",
            "[%] File Downloaded !\n",
            "\n",
            "[%] Downloading Image #99 from https://weneedfun.com/wp-content/uploads/2016/08/Outdoor-Halloween-Decorations-6-1024x1024.jpg\n",
            "[%] File Downloaded !\n",
            "\n",
            "[%] Downloading Image #100 from https://wallpapersite.com/images/wallpapers/tyrannosaurus-720x1280-t-rex-hd-5k-3929.jpg\n",
            "[!] Issue getting: https://wallpapersite.com/images/wallpapers/tyrannosaurus-720x1280-t-rex-hd-5k-3929.jpg\n",
            "[!] Error:: HTTP Error 404: Not Found\n",
            "[%] Downloading Image #100 from https://weneedfun.com/wp-content/uploads/2016/08/Cake-Boss-Wedding-Cakes-17.jpg\n",
            "[%] File Downloaded !\n",
            "\n",
            "\n",
            "\n",
            "[%] Done. Downloaded 100 images.\n",
            "\n",
            "===============================================\n",
            "\n"
          ],
          "name": "stdout"
        }
      ]
    },
    {
      "cell_type": "code",
      "metadata": {
        "colab": {
          "base_uri": "https://localhost:8080/"
        },
        "id": "9cTLc41-95IY",
        "outputId": "4cc3d3cd-4ebb-4ce7-99d8-d7a93a01f00f"
      },
      "source": [
        "import sklearn\n",
        "sklearn_version = sklearn.__version__\n",
        "print(sklearn_version)"
      ],
      "execution_count": null,
      "outputs": [
        {
          "output_type": "stream",
          "text": [
            "0.22.2.post1\n"
          ],
          "name": "stdout"
        }
      ]
    },
    {
      "cell_type": "code",
      "metadata": {
        "id": "lToKiCWysrGP"
      },
      "source": [
        "import numpy as np\n",
        "from skimage.transform import resize\n",
        "from skimage.io import imread\n",
        "import matplotlib.pyplot as plt\n",
        "import os\n",
        "\n",
        "target = []\n",
        "images = []   # In matrix format\n",
        "flat_data = []  # In vector format\n",
        "\n",
        "DATADIR = '/content/drive/My Drive/images1'\n",
        "CATEGORIES = ['motor bikes','cars']\n",
        "\n",
        "for category in CATEGORIES:\n",
        "  class_num = CATEGORIES.index(category)\n",
        "  path = os.path.join(DATADIR,category)\n",
        "  for img in os.listdir(path):\n",
        "    img_array = imread(os.path.join(path,img))\n",
        "    img_resized = resize(img_array,(150,150,3))\n",
        "    flat_data.append(img_resized.flatten())\n",
        "    images.append(img_resized)\n",
        "    target.append(class_num)\n",
        "\n",
        "target = np.array(target)\n",
        "images = np.array(images)\n",
        "flat_data = np.array(flat_data)"
      ],
      "execution_count": 57,
      "outputs": []
    },
    {
      "cell_type": "code",
      "metadata": {
        "id": "oqdCBZMNtVl7",
        "colab": {
          "base_uri": "https://localhost:8080/"
        },
        "outputId": "11a04af9-d0c1-4bbf-d9f7-1cf8af77ea81"
      },
      "source": [
        "from sklearn.model_selection import train_test_split\n",
        "x_train,x_test,y_train,y_test = train_test_split(flat_data,target,random_state=0)\n",
        "sklearn_version = sklearn.__version__\n",
        "print(sklearn_version)"
      ],
      "execution_count": 58,
      "outputs": [
        {
          "output_type": "stream",
          "text": [
            "0.22.2.post1\n"
          ],
          "name": "stdout"
        }
      ]
    },
    {
      "cell_type": "code",
      "metadata": {
        "id": "kz73pxo5urZc",
        "colab": {
          "base_uri": "https://localhost:8080/"
        },
        "outputId": "8159a54b-484a-49d0-8d73-6c1f0e0fa711"
      },
      "source": [
        "from sklearn.model_selection import GridSearchCV\n",
        "from sklearn import svm\n",
        "param_grid=[\n",
        "            {'C': [1,10,100,100], 'kernel': ['linear']},\n",
        "            {'C': [1,10,100,100], 'gamma': [0.001,0.0001], 'kernel': ['rbf']},\n",
        "]\n",
        "\n",
        "svc=svm.SVC(probability=True)\n",
        "clf=GridSearchCV(svc,param_grid)\n",
        "clf.fit(x_train,y_train)"
      ],
      "execution_count": 59,
      "outputs": [
        {
          "output_type": "execute_result",
          "data": {
            "text/plain": [
              "GridSearchCV(cv=None, error_score=nan,\n",
              "             estimator=SVC(C=1.0, break_ties=False, cache_size=200,\n",
              "                           class_weight=None, coef0=0.0,\n",
              "                           decision_function_shape='ovr', degree=3,\n",
              "                           gamma='scale', kernel='rbf', max_iter=-1,\n",
              "                           probability=True, random_state=None, shrinking=True,\n",
              "                           tol=0.001, verbose=False),\n",
              "             iid='deprecated', n_jobs=None,\n",
              "             param_grid=[{'C': [1, 10, 100, 100], 'kernel': ['linear']},\n",
              "                         {'C': [1, 10, 100, 100], 'gamma': [0.001, 0.0001],\n",
              "                          'kernel': ['rbf']}],\n",
              "             pre_dispatch='2*n_jobs', refit=True, return_train_score=False,\n",
              "             scoring=None, verbose=0)"
            ]
          },
          "metadata": {
            "tags": []
          },
          "execution_count": 59
        }
      ]
    },
    {
      "cell_type": "code",
      "metadata": {
        "colab": {
          "base_uri": "https://localhost:8080/"
        },
        "id": "lZUTyXmh-zvh",
        "outputId": "6bba6e73-6364-45c9-aadf-2c8de3117160"
      },
      "source": [
        "sklearn_version = sklearn.__version__\n",
        "print(sklearn_version)"
      ],
      "execution_count": 60,
      "outputs": [
        {
          "output_type": "stream",
          "text": [
            "0.22.2.post1\n"
          ],
          "name": "stdout"
        }
      ]
    },
    {
      "cell_type": "code",
      "metadata": {
        "id": "SmGhKCDmxLBk"
      },
      "source": [
        "y_pred = clf.predict(x_test)"
      ],
      "execution_count": 61,
      "outputs": []
    },
    {
      "cell_type": "code",
      "metadata": {
        "colab": {
          "base_uri": "https://localhost:8080/"
        },
        "id": "sVKJ0P6Hyar8",
        "outputId": "5b1f37bd-78bf-427b-ce74-ecda294db415"
      },
      "source": [
        "y_pred"
      ],
      "execution_count": 62,
      "outputs": [
        {
          "output_type": "execute_result",
          "data": {
            "text/plain": [
              "array([1, 0, 0, 0, 0, 0, 0, 1, 0, 1, 1, 1, 0, 1, 1, 0, 1])"
            ]
          },
          "metadata": {
            "tags": []
          },
          "execution_count": 62
        }
      ]
    },
    {
      "cell_type": "code",
      "metadata": {
        "colab": {
          "base_uri": "https://localhost:8080/"
        },
        "id": "fZQ7gDsfycPI",
        "outputId": "ce9f2099-8da9-473d-d2ea-217107ec1334"
      },
      "source": [
        "y_test"
      ],
      "execution_count": 63,
      "outputs": [
        {
          "output_type": "execute_result",
          "data": {
            "text/plain": [
              "array([1, 0, 0, 1, 1, 0, 1, 1, 0, 0, 1, 1, 0, 1, 1, 0, 0])"
            ]
          },
          "metadata": {
            "tags": []
          },
          "execution_count": 63
        }
      ]
    },
    {
      "cell_type": "code",
      "metadata": {
        "colab": {
          "base_uri": "https://localhost:8080/"
        },
        "id": "J7OwP_FMyeJB",
        "outputId": "53fd4422-511e-46a2-82f2-ff335e17ee80"
      },
      "source": [
        "from sklearn.metrics import accuracy_score,confusion_matrix\n",
        "accuracy_score(y_pred,y_test)"
      ],
      "execution_count": 64,
      "outputs": [
        {
          "output_type": "execute_result",
          "data": {
            "text/plain": [
              "0.7058823529411765"
            ]
          },
          "metadata": {
            "tags": []
          },
          "execution_count": 64
        }
      ]
    },
    {
      "cell_type": "code",
      "metadata": {
        "id": "omTW1EadRXiy"
      },
      "source": [
        "\n",
        "# Save the model using Pickle library\n",
        "import pickle\n",
        "pickle.dump(clf,open('img_model.p','wb'))"
      ],
      "execution_count": 65,
      "outputs": []
    },
    {
      "cell_type": "code",
      "metadata": {
        "id": "Vh_ap4MCRhLf"
      },
      "source": [
        "model = pickle.load(open('img_model.p','rb'))"
      ],
      "execution_count": 66,
      "outputs": []
    },
    {
      "cell_type": "code",
      "metadata": {
        "colab": {
          "base_uri": "https://localhost:8080/",
          "height": 306
        },
        "id": "gF3kv3tBy5sL",
        "outputId": "21a84a9a-07b5-487c-e502-4f91c80b5e05"
      },
      "source": [
        "flat_data=[]\n",
        "url = input(\"Enter your url\")\n",
        "img=imread(url)\n",
        "img_resized=resize(img,(150,150,3))\n",
        "flat_data.append(img_resized.flatten())\n",
        "flat_data=np.array(flat_data)\n",
        "plt.imshow(img_resized)\n",
        "y_out=model.predict(flat_data)\n",
        "y_out=CATEGORIES[y_out[0]]\n",
        "print(f\"Predicted output: {y_out}\")"
      ],
      "execution_count": 67,
      "outputs": [
        {
          "output_type": "stream",
          "text": [
            "Enter your urlhttps://encrypted-tbn0.gstatic.com/images?q=tbn:ANd9GcRAhr316wRrEEkVP3p4_7IjhrmKDOd9j_I8cw&usqp=CAU\n",
            "Predicted output: motor bikes\n"
          ],
          "name": "stdout"
        },
        {
          "output_type": "display_data",
          "data": {
            "image/png": "[encoded data removed]",
            "text/plain": [
              "<Figure size 432x288 with 1 Axes>"
            ]
          },
          "metadata": {
            "tags": [],
            "needs_background": "light"
          }
        }
      ]
    },
    {
      "cell_type": "code",
      "metadata": {
        "id": "-wUOtHo0GGN8",
        "colab": {
          "base_uri": "https://localhost:8080/"
        },
        "outputId": "33bca0ed-1630-48cf-d1a4-ffb566b89a64"
      },
      "source": [
        "!pip install streamlit\n",
        "\n",
        "!pip install pyngrok===4.1.1\n",
        "from pyngrok import ngrok"
      ],
      "execution_count": 68,
      "outputs": [
        {
          "output_type": "stream",
          "text": [
            "Requirement already satisfied: streamlit in /usr/local/lib/python3.6/dist-packages (0.72.0)\n",
            "Requirement already satisfied: protobuf!=3.11,>=3.6.0 in /usr/local/lib/python3.6/dist-packages (from streamlit) (3.12.4)\n",
            "Requirement already satisfied: base58 in /usr/local/lib/python3.6/dist-packages (from streamlit) (2.0.1)\n",
            "Requirement already satisfied: altair>=3.2.0 in /usr/local/lib/python3.6/dist-packages (from streamlit) (4.1.0)\n",
            "Requirement already satisfied: gitpython in /usr/local/lib/python3.6/dist-packages (from streamlit) (3.1.11)\n",
            "Requirement already satisfied: packaging in /usr/local/lib/python3.6/dist-packages (from streamlit) (20.7)\n",
            "Requirement already satisfied: blinker in /usr/local/lib/python3.6/dist-packages (from streamlit) (1.4)\n",
            "Requirement already satisfied: click>=7.0 in /usr/local/lib/python3.6/dist-packages (from streamlit) (7.1.2)\n",
            "Requirement already satisfied: toml in /usr/local/lib/python3.6/dist-packages (from streamlit) (0.10.2)\n",
            "Requirement already satisfied: cachetools>=4.0 in /usr/local/lib/python3.6/dist-packages (from streamlit) (4.1.1)\n",
            "Requirement already satisfied: watchdog in /usr/local/lib/python3.6/dist-packages (from streamlit) (1.0.1)\n",
            "Requirement already satisfied: tzlocal in /usr/local/lib/python3.6/dist-packages (from streamlit) (1.5.1)\n",
            "Requirement already satisfied: pandas>=0.21.0 in /usr/local/lib/python3.6/dist-packages (from streamlit) (1.1.5)\n",
            "Requirement already satisfied: requests in /usr/local/lib/python3.6/dist-packages (from streamlit) (2.23.0)\n",
            "Requirement already satisfied: validators in /usr/local/lib/python3.6/dist-packages (from streamlit) (0.18.1)\n",
            "Requirement already satisfied: tornado>=5.0 in /usr/local/lib/python3.6/dist-packages (from streamlit) (5.1.1)\n",
            "Requirement already satisfied: numpy in /usr/local/lib/python3.6/dist-packages (from streamlit) (1.18.5)\n",
            "Requirement already satisfied: python-dateutil in /usr/local/lib/python3.6/dist-packages (from streamlit) (2.8.1)\n",
            "Requirement already satisfied: pyarrow in /usr/local/lib/python3.6/dist-packages (from streamlit) (0.14.1)\n",
            "Requirement already satisfied: pillow>=6.2.0 in /usr/local/lib/python3.6/dist-packages (from streamlit) (7.0.0)\n",
            "Requirement already satisfied: astor in /usr/local/lib/python3.6/dist-packages (from streamlit) (0.8.1)\n",
            "Requirement already satisfied: pydeck>=0.1.dev5 in /usr/local/lib/python3.6/dist-packages (from streamlit) (0.5.0)\n",
            "Requirement already satisfied: setuptools in /usr/local/lib/python3.6/dist-packages (from protobuf!=3.11,>=3.6.0->streamlit) (50.3.2)\n",
            "Requirement already satisfied: six>=1.9 in /usr/local/lib/python3.6/dist-packages (from protobuf!=3.11,>=3.6.0->streamlit) (1.15.0)\n",
            "Requirement already satisfied: jsonschema in /usr/local/lib/python3.6/dist-packages (from altair>=3.2.0->streamlit) (2.6.0)\n",
            "Requirement already satisfied: toolz in /usr/local/lib/python3.6/dist-packages (from altair>=3.2.0->streamlit) (0.11.1)\n",
            "Requirement already satisfied: jinja2 in /usr/local/lib/python3.6/dist-packages (from altair>=3.2.0->streamlit) (2.11.2)\n",
            "Requirement already satisfied: entrypoints in /usr/local/lib/python3.6/dist-packages (from altair>=3.2.0->streamlit) (0.3)\n",
            "Requirement already satisfied: gitdb<5,>=4.0.1 in /usr/local/lib/python3.6/dist-packages (from gitpython->streamlit) (4.0.5)\n",
            "Requirement already satisfied: pyparsing>=2.0.2 in /usr/local/lib/python3.6/dist-packages (from packaging->streamlit) (2.4.7)\n",
            "Requirement already satisfied: pytz in /usr/local/lib/python3.6/dist-packages (from tzlocal->streamlit) (2018.9)\n",
            "Requirement already satisfied: urllib3!=1.25.0,!=1.25.1,<1.26,>=1.21.1 in /usr/local/lib/python3.6/dist-packages (from requests->streamlit) (1.24.3)\n",
            "Requirement already satisfied: chardet<4,>=3.0.2 in /usr/local/lib/python3.6/dist-packages (from requests->streamlit) (3.0.4)\n",
            "Requirement already satisfied: certifi>=2017.4.17 in /usr/local/lib/python3.6/dist-packages (from requests->streamlit) (2020.12.5)\n",
            "Requirement already satisfied: idna<3,>=2.5 in /usr/local/lib/python3.6/dist-packages (from requests->streamlit) (2.10)\n",
            "Requirement already satisfied: decorator>=3.4.0 in /usr/local/lib/python3.6/dist-packages (from validators->streamlit) (4.4.2)\n",
            "Requirement already satisfied: traitlets>=4.3.2 in /usr/local/lib/python3.6/dist-packages (from pydeck>=0.1.dev5->streamlit) (4.3.3)\n",
            "Requirement already satisfied: ipywidgets>=7.0.0 in /usr/local/lib/python3.6/dist-packages (from pydeck>=0.1.dev5->streamlit) (7.5.1)\n",
            "Requirement already satisfied: ipykernel>=5.1.2; python_version >= \"3.4\" in /usr/local/lib/python3.6/dist-packages (from pydeck>=0.1.dev5->streamlit) (5.4.2)\n",
            "Requirement already satisfied: MarkupSafe>=0.23 in /usr/local/lib/python3.6/dist-packages (from jinja2->altair>=3.2.0->streamlit) (1.1.1)\n",
            "Requirement already satisfied: smmap<4,>=3.0.1 in /usr/local/lib/python3.6/dist-packages (from gitdb<5,>=4.0.1->gitpython->streamlit) (3.0.4)\n",
            "Requirement already satisfied: ipython-genutils in /usr/local/lib/python3.6/dist-packages (from traitlets>=4.3.2->pydeck>=0.1.dev5->streamlit) (0.2.0)\n",
            "Requirement already satisfied: ipython>=4.0.0; python_version >= \"3.3\" in /usr/local/lib/python3.6/dist-packages (from ipywidgets>=7.0.0->pydeck>=0.1.dev5->streamlit) (5.5.0)\n",
            "Requirement already satisfied: widgetsnbextension~=3.5.0 in /usr/local/lib/python3.6/dist-packages (from ipywidgets>=7.0.0->pydeck>=0.1.dev5->streamlit) (3.5.1)\n",
            "Requirement already satisfied: nbformat>=4.2.0 in /usr/local/lib/python3.6/dist-packages (from ipywidgets>=7.0.0->pydeck>=0.1.dev5->streamlit) (5.0.8)\n",
            "Requirement already satisfied: jupyter-client in /usr/local/lib/python3.6/dist-packages (from ipykernel>=5.1.2; python_version >= \"3.4\"->pydeck>=0.1.dev5->streamlit) (5.3.5)\n",
            "Requirement already satisfied: pygments in /usr/local/lib/python3.6/dist-packages (from ipython>=4.0.0; python_version >= \"3.3\"->ipywidgets>=7.0.0->pydeck>=0.1.dev5->streamlit) (2.6.1)\n",
            "Requirement already satisfied: pickleshare in /usr/local/lib/python3.6/dist-packages (from ipython>=4.0.0; python_version >= \"3.3\"->ipywidgets>=7.0.0->pydeck>=0.1.dev5->streamlit) (0.7.5)\n",
            "Requirement already satisfied: simplegeneric>0.8 in /usr/local/lib/python3.6/dist-packages (from ipython>=4.0.0; python_version >= \"3.3\"->ipywidgets>=7.0.0->pydeck>=0.1.dev5->streamlit) (0.8.1)\n",
            "Requirement already satisfied: pexpect; sys_platform != \"win32\" in /usr/local/lib/python3.6/dist-packages (from ipython>=4.0.0; python_version >= \"3.3\"->ipywidgets>=7.0.0->pydeck>=0.1.dev5->streamlit) (4.8.0)\n",
            "Requirement already satisfied: prompt-toolkit<2.0.0,>=1.0.4 in /usr/local/lib/python3.6/dist-packages (from ipython>=4.0.0; python_version >= \"3.3\"->ipywidgets>=7.0.0->pydeck>=0.1.dev5->streamlit) (1.0.18)\n",
            "Requirement already satisfied: notebook>=4.4.1 in /usr/local/lib/python3.6/dist-packages (from widgetsnbextension~=3.5.0->ipywidgets>=7.0.0->pydeck>=0.1.dev5->streamlit) (5.3.1)\n",
            "Requirement already satisfied: jupyter-core in /usr/local/lib/python3.6/dist-packages (from nbformat>=4.2.0->ipywidgets>=7.0.0->pydeck>=0.1.dev5->streamlit) (4.7.0)\n",
            "Requirement already satisfied: pyzmq>=13 in /usr/local/lib/python3.6/dist-packages (from jupyter-client->ipykernel>=5.1.2; python_version >= \"3.4\"->pydeck>=0.1.dev5->streamlit) (20.0.0)\n",
            "Requirement already satisfied: ptyprocess>=0.5 in /usr/local/lib/python3.6/dist-packages (from pexpect; sys_platform != \"win32\"->ipython>=4.0.0; python_version >= \"3.3\"->ipywidgets>=7.0.0->pydeck>=0.1.dev5->streamlit) (0.6.0)\n",
            "Requirement already satisfied: wcwidth in /usr/local/lib/python3.6/dist-packages (from prompt-toolkit<2.0.0,>=1.0.4->ipython>=4.0.0; python_version >= \"3.3\"->ipywidgets>=7.0.0->pydeck>=0.1.dev5->streamlit) (0.2.5)\n",
            "Requirement already satisfied: terminado>=0.8.1 in /usr/local/lib/python3.6/dist-packages (from notebook>=4.4.1->widgetsnbextension~=3.5.0->ipywidgets>=7.0.0->pydeck>=0.1.dev5->streamlit) (0.9.1)\n",
            "Requirement already satisfied: Send2Trash in /usr/local/lib/python3.6/dist-packages (from notebook>=4.4.1->widgetsnbextension~=3.5.0->ipywidgets>=7.0.0->pydeck>=0.1.dev5->streamlit) (1.5.0)\n",
            "Requirement already satisfied: nbconvert in /usr/local/lib/python3.6/dist-packages (from notebook>=4.4.1->widgetsnbextension~=3.5.0->ipywidgets>=7.0.0->pydeck>=0.1.dev5->streamlit) (5.6.1)\n",
            "Requirement already satisfied: defusedxml in /usr/local/lib/python3.6/dist-packages (from nbconvert->notebook>=4.4.1->widgetsnbextension~=3.5.0->ipywidgets>=7.0.0->pydeck>=0.1.dev5->streamlit) (0.6.0)\n",
            "Requirement already satisfied: bleach in /usr/local/lib/python3.6/dist-packages (from nbconvert->notebook>=4.4.1->widgetsnbextension~=3.5.0->ipywidgets>=7.0.0->pydeck>=0.1.dev5->streamlit) (3.2.1)\n",
            "Requirement already satisfied: pandocfilters>=1.4.1 in /usr/local/lib/python3.6/dist-packages (from nbconvert->notebook>=4.4.1->widgetsnbextension~=3.5.0->ipywidgets>=7.0.0->pydeck>=0.1.dev5->streamlit) (1.4.3)\n",
            "Requirement already satisfied: testpath in /usr/local/lib/python3.6/dist-packages (from nbconvert->notebook>=4.4.1->widgetsnbextension~=3.5.0->ipywidgets>=7.0.0->pydeck>=0.1.dev5->streamlit) (0.4.4)\n",
            "Requirement already satisfied: mistune<2,>=0.8.1 in /usr/local/lib/python3.6/dist-packages (from nbconvert->notebook>=4.4.1->widgetsnbextension~=3.5.0->ipywidgets>=7.0.0->pydeck>=0.1.dev5->streamlit) (0.8.4)\n",
            "Requirement already satisfied: webencodings in /usr/local/lib/python3.6/dist-packages (from bleach->nbconvert->notebook>=4.4.1->widgetsnbextension~=3.5.0->ipywidgets>=7.0.0->pydeck>=0.1.dev5->streamlit) (0.5.1)\n",
            "Requirement already satisfied: pyngrok===4.1.1 in /usr/local/lib/python3.6/dist-packages (4.1.1)\n",
            "Requirement already satisfied: PyYAML in /usr/local/lib/python3.6/dist-packages (from pyngrok===4.1.1) (3.13)\n",
            "Requirement already satisfied: future in /usr/local/lib/python3.6/dist-packages (from pyngrok===4.1.1) (0.16.0)\n"
          ],
          "name": "stdout"
        }
      ]
    },
    {
      "cell_type": "code",
      "metadata": {
        "id": "sIU50k4K4JyA",
        "colab": {
          "base_uri": "https://localhost:8080/"
        },
        "outputId": "8e88f47e-e9d0-4cc1-cbf4-eb74a3ff3d0f"
      },
      "source": [
        "%%writefile app.py\n",
        "import streamlit as st\n",
        "import numpy as np\n",
        "from skimage.io import imread\n",
        "from skimage.transform import resize\n",
        "import pickle \n",
        "from PIL import Image\n",
        "#import matplotlib.pyplot as plt\n",
        "#import os\n",
        "\n",
        "\n",
        " \n",
        "st.set_option('deprecation.showfileUploaderEncoding', False)\n",
        "st.set_page_config(page_title=\"Image Classification Web App\",page_icon=\"\",layout=\"centered\",initial_sidebar_state=\"expanded\")\n",
        "st.title('Image Classifier using Machine Learning')\n",
        "st.subheader('by Amlan Mohanty ')\n",
        "st.text('Upload the Image')\n",
        "\n",
        "model = pickle.load(open('img_model.p','rb'))\n",
        "\n",
        "st.markdown(\"\"\"\n",
        "<style>\n",
        "body {\n",
        "    color: #000099;\n",
        "    background-color: #669999;\n",
        "    etc. \n",
        "}\n",
        "</style>\n",
        "    \"\"\", unsafe_allow_html=True)\n",
        "\n",
        "\n",
        "uploaded_file = st.file_uploader(\"Choose an image...\", type=\"jpg\")\n",
        "if uploaded_file is not None:\n",
        "  img = Image.open(uploaded_file)\n",
        "  st.image(img,caption='Uploaded Image')\n",
        "\n",
        "\n",
        "\n",
        "  if st.button('PREDICT'):\n",
        "    CATEGORIES = ['motor bike','car']\n",
        "    st.write('Result...')\n",
        "    flat_data=[]\n",
        "    img = np.array(img)\n",
        "    img_resized = resize(img,(150,150,3))\n",
        "    flat_data.append(img_resized.flatten())\n",
        "    flat_data = np.array(flat_data)\n",
        "    y_out = model.predict(flat_data)\n",
        "    y_out = CATEGORIES[y_out[0]]\n",
        "    st.title(f' PREDICTED OUTPUT: {y_out}')\n",
        "    q =model.predict_proba(flat_data)\n",
        "    #for index, item in enumerate(CATEGORIES):\n",
        "      #st.write(f'{item} : {q[0][index]*100}%')\n",
        "\n",
        "\n",
        "st.sidebar.subheader(\"About App\")\n",
        "\n",
        "st.sidebar.info(\"This web app is made as part of Image Classification Project\")\n",
        "st.sidebar.info(\"Browse the image you want to upload or simply drag and drop the image\")\n",
        "st.sidebar.info(\"Click on the 'Predict' button to check whether the uploaded image is of 'Bike' or 'Car' \")\n",
        "st.sidebar.info(\"Don't forget to rate this app\")\n",
        "\n",
        "\n",
        "\n",
        "feedback = st.sidebar.slider('How much would you rate this app?',min_value=0,max_value=10,step=1)\n",
        "\n",
        "if feedback:\n",
        "  st.header(\"Thank you for rating the app!\")"
      ],
      "execution_count": 70,
      "outputs": [
        {
          "output_type": "stream",
          "text": [
            "Overwriting app.py\n"
          ],
          "name": "stdout"
        }
      ]
    },
    {
      "cell_type": "code",
      "metadata": {
        "id": "eBLuL_zi4TZZ",
        "colab": {
          "base_uri": "https://localhost:8080/",
          "height": 54
        },
        "outputId": "6bcd8614-13c8-4934-b51e-7ef6ab1bf23c"
      },
      "source": [
        "!nohup streamlit run app.py &\n",
        "\n",
        "url = ngrok.connect(port='8501')\n",
        "url"
      ],
      "execution_count": null,
      "outputs": [
        {
          "output_type": "stream",
          "text": [
            "nohup: appending output to 'nohup.out'\n"
          ],
          "name": "stdout"
        },
        {
          "output_type": "execute_result",
          "data": {
            "application/vnd.google.colaboratory.intrinsic+json": {
              "type": "string"
            },
            "text/plain": [
              "'http://5db7f1b9ad37.ngrok.io'"
            ]
          },
          "metadata": {
            "tags": []
          },
          "execution_count": 26
        }
      ]
    },
    {
      "cell_type": "code",
      "metadata": {
        "id": "t9VFLVMn4hmb"
      },
      "source": [
        ""
      ],
      "execution_count": null,
      "outputs": []
    }
  ]
}